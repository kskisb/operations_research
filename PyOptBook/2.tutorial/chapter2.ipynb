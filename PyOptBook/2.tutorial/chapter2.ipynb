{
 "cells": [
  {
   "cell_type": "code",
   "execution_count": 1,
   "id": "42d39eff",
   "metadata": {},
   "outputs": [
    {
     "name": "stdout",
     "output_type": "stream",
     "text": [
      "Welcome to the CBC MILP Solver \n",
      "Version: 2.10.3 \n",
      "Build Date: Dec 15 2019 \n",
      "\n",
      "command line - /Users/isobekosuke/home/operations_research/venv/lib/python3.13/site-packages/pulp/apis/../solverdir/cbc/osx/i64/cbc /var/folders/b9/s3mpk10s0s1bl06d5p5990h80000gn/T/e65f0df4d3484ca082f8512d785ca997-pulp.mps -max -timeMode elapsed -branch -printingOptions all -solution /var/folders/b9/s3mpk10s0s1bl06d5p5990h80000gn/T/e65f0df4d3484ca082f8512d785ca997-pulp.sol (default strategy 1)\n",
      "At line 2 NAME          MODEL\n",
      "At line 3 ROWS\n",
      "At line 7 COLUMNS\n",
      "At line 13 RHS\n",
      "At line 16 BOUNDS\n",
      "At line 20 ENDATA\n",
      "Problem MODEL has 2 rows, 3 columns and 4 elements\n",
      "Coin0008I MODEL read with 0 errors\n",
      "Option for timeMode changed from cpu to elapsed\n",
      "Presolve 0 (-2) rows, 0 (-3) columns and 0 (-4) elements\n",
      "Empty problem - 0 rows, 0 columns and 0 elements\n",
      "Optimal - objective value -0\n",
      "After Postsolve, objective 0, infeasibilities - dual 0 (0), primal 0 (0)\n",
      "Optimal objective 0 - 0 iterations time 0.002, Presolve 0.00\n",
      "Option for printingOptions changed from normal to all\n",
      "Total time (CPU seconds):       0.00   (Wallclock seconds):       0.01\n",
      "\n",
      "Status:  Optimal\n",
      "x= 2.0 y= 8.0\n"
     ]
    }
   ],
   "source": [
    "import pulp\n",
    "\n",
    "problem = pulp.LpProblem('SLE', pulp.LpMaximize)\n",
    "\n",
    "x = pulp.LpVariable('x', cat='Continuous')\n",
    "y = pulp.LpVariable('y', cat='Continuous')\n",
    "\n",
    "problem += 120 * x + 150 * y == 1440\n",
    "problem += x + y == 10\n",
    "\n",
    "status = problem.solve()\n",
    "\n",
    "print('Status: ', pulp.LpStatus[status])\n",
    "print('x=', x.value(), 'y=', y.value())"
   ]
  },
  {
   "cell_type": "code",
   "execution_count": 2,
   "id": "32c06653",
   "metadata": {},
   "outputs": [
    {
     "name": "stdout",
     "output_type": "stream",
     "text": [
      "Welcome to the CBC MILP Solver \n",
      "Version: 2.10.3 \n",
      "Build Date: Dec 15 2019 \n",
      "\n",
      "command line - /Users/isobekosuke/home/operations_research/venv/lib/python3.13/site-packages/pulp/apis/../solverdir/cbc/osx/i64/cbc /var/folders/b9/s3mpk10s0s1bl06d5p5990h80000gn/T/0abccd26b55b4b58aebe304a8e5ffefe-pulp.mps -max -timeMode elapsed -branch -printingOptions all -solution /var/folders/b9/s3mpk10s0s1bl06d5p5990h80000gn/T/0abccd26b55b4b58aebe304a8e5ffefe-pulp.sol (default strategy 1)\n",
      "At line 2 NAME          MODEL\n",
      "At line 3 ROWS\n",
      "At line 9 COLUMNS\n",
      "At line 18 RHS\n",
      "At line 23 BOUNDS\n",
      "At line 26 ENDATA\n",
      "Problem MODEL has 4 rows, 2 columns and 6 elements\n",
      "Coin0008I MODEL read with 0 errors\n",
      "Option for timeMode changed from cpu to elapsed\n",
      "Presolve 2 (-2) rows, 2 (0) columns and 4 (-2) elements\n",
      "0  Obj -0 Dual inf 2.999998 (2)\n",
      "2  Obj 26\n",
      "Optimal - objective value 26\n",
      "After Postsolve, objective 26, infeasibilities - dual 0 (0), primal 0 (0)\n",
      "Optimal objective 26 - 2 iterations time 0.002, Presolve 0.00\n",
      "Option for printingOptions changed from normal to all\n",
      "Total time (CPU seconds):       0.00   (Wallclock seconds):       0.01\n",
      "\n",
      "Status: Optimal\n",
      "x= 18.0 y= 4.0 obj= 26.0\n"
     ]
    }
   ],
   "source": [
    "import pulp\n",
    "\n",
    "problem = pulp.LpProblem('LP', pulp.LpMaximize)\n",
    "\n",
    "x = pulp.LpVariable('x', cat='Continuous')\n",
    "y = pulp.LpVariable('y', cat='Continuous')\n",
    "\n",
    "problem += 1 * x + 3 * y <= 30\n",
    "problem += 2 * x + 1 * y <= 40\n",
    "problem += x >= 0\n",
    "problem += y >= 0\n",
    "problem += x + 2 * y\n",
    "\n",
    "status = problem.solve()\n",
    "\n",
    "print('Status:', pulp.LpStatus[status])\n",
    "print('x=', x.value(), 'y=', y.value(), 'obj=', problem.objective.value())"
   ]
  },
  {
   "cell_type": "markdown",
   "id": "101503b2",
   "metadata": {},
   "source": [
    "## 2.3 規模の大きな数理最適化問題を Python の数理最適化ライブラリで解く"
   ]
  },
  {
   "cell_type": "code",
   "execution_count": 17,
   "id": "0d82a98d",
   "metadata": {},
   "outputs": [],
   "source": [
    "import pandas as pd\n",
    "import pulp"
   ]
  },
  {
   "cell_type": "code",
   "execution_count": 18,
   "id": "c9592d68",
   "metadata": {},
   "outputs": [
    {
     "data": {
      "text/html": [
       "<div>\n",
       "<style scoped>\n",
       "    .dataframe tbody tr th:only-of-type {\n",
       "        vertical-align: middle;\n",
       "    }\n",
       "\n",
       "    .dataframe tbody tr th {\n",
       "        vertical-align: top;\n",
       "    }\n",
       "\n",
       "    .dataframe thead th {\n",
       "        text-align: right;\n",
       "    }\n",
       "</style>\n",
       "<table border=\"1\" class=\"dataframe\">\n",
       "  <thead>\n",
       "    <tr style=\"text-align: right;\">\n",
       "      <th></th>\n",
       "      <th>m</th>\n",
       "      <th>stock</th>\n",
       "    </tr>\n",
       "  </thead>\n",
       "  <tbody>\n",
       "    <tr>\n",
       "      <th>0</th>\n",
       "      <td>m1</td>\n",
       "      <td>35</td>\n",
       "    </tr>\n",
       "    <tr>\n",
       "      <th>1</th>\n",
       "      <td>m2</td>\n",
       "      <td>22</td>\n",
       "    </tr>\n",
       "    <tr>\n",
       "      <th>2</th>\n",
       "      <td>m3</td>\n",
       "      <td>27</td>\n",
       "    </tr>\n",
       "  </tbody>\n",
       "</table>\n",
       "</div>"
      ],
      "text/plain": [
       "    m  stock\n",
       "0  m1     35\n",
       "1  m2     22\n",
       "2  m3     27"
      ]
     },
     "execution_count": 18,
     "metadata": {},
     "output_type": "execute_result"
    }
   ],
   "source": [
    "stock_df = pd.read_csv('stocks.csv')\n",
    "stock_df"
   ]
  },
  {
   "cell_type": "code",
   "execution_count": 19,
   "id": "efb6cf74",
   "metadata": {},
   "outputs": [
    {
     "data": {
      "text/html": [
       "<div>\n",
       "<style scoped>\n",
       "    .dataframe tbody tr th:only-of-type {\n",
       "        vertical-align: middle;\n",
       "    }\n",
       "\n",
       "    .dataframe tbody tr th {\n",
       "        vertical-align: top;\n",
       "    }\n",
       "\n",
       "    .dataframe thead th {\n",
       "        text-align: right;\n",
       "    }\n",
       "</style>\n",
       "<table border=\"1\" class=\"dataframe\">\n",
       "  <thead>\n",
       "    <tr style=\"text-align: right;\">\n",
       "      <th></th>\n",
       "      <th>p</th>\n",
       "      <th>m</th>\n",
       "      <th>require</th>\n",
       "    </tr>\n",
       "  </thead>\n",
       "  <tbody>\n",
       "    <tr>\n",
       "      <th>0</th>\n",
       "      <td>p1</td>\n",
       "      <td>m1</td>\n",
       "      <td>2</td>\n",
       "    </tr>\n",
       "    <tr>\n",
       "      <th>1</th>\n",
       "      <td>p1</td>\n",
       "      <td>m2</td>\n",
       "      <td>0</td>\n",
       "    </tr>\n",
       "    <tr>\n",
       "      <th>2</th>\n",
       "      <td>p1</td>\n",
       "      <td>m3</td>\n",
       "      <td>1</td>\n",
       "    </tr>\n",
       "    <tr>\n",
       "      <th>3</th>\n",
       "      <td>p2</td>\n",
       "      <td>m1</td>\n",
       "      <td>3</td>\n",
       "    </tr>\n",
       "    <tr>\n",
       "      <th>4</th>\n",
       "      <td>p2</td>\n",
       "      <td>m2</td>\n",
       "      <td>2</td>\n",
       "    </tr>\n",
       "    <tr>\n",
       "      <th>5</th>\n",
       "      <td>p2</td>\n",
       "      <td>m3</td>\n",
       "      <td>0</td>\n",
       "    </tr>\n",
       "    <tr>\n",
       "      <th>6</th>\n",
       "      <td>p3</td>\n",
       "      <td>m1</td>\n",
       "      <td>0</td>\n",
       "    </tr>\n",
       "    <tr>\n",
       "      <th>7</th>\n",
       "      <td>p3</td>\n",
       "      <td>m2</td>\n",
       "      <td>2</td>\n",
       "    </tr>\n",
       "    <tr>\n",
       "      <th>8</th>\n",
       "      <td>p3</td>\n",
       "      <td>m3</td>\n",
       "      <td>2</td>\n",
       "    </tr>\n",
       "    <tr>\n",
       "      <th>9</th>\n",
       "      <td>p4</td>\n",
       "      <td>m1</td>\n",
       "      <td>2</td>\n",
       "    </tr>\n",
       "    <tr>\n",
       "      <th>10</th>\n",
       "      <td>p4</td>\n",
       "      <td>m2</td>\n",
       "      <td>2</td>\n",
       "    </tr>\n",
       "    <tr>\n",
       "      <th>11</th>\n",
       "      <td>p4</td>\n",
       "      <td>m3</td>\n",
       "      <td>2</td>\n",
       "    </tr>\n",
       "  </tbody>\n",
       "</table>\n",
       "</div>"
      ],
      "text/plain": [
       "     p   m  require\n",
       "0   p1  m1        2\n",
       "1   p1  m2        0\n",
       "2   p1  m3        1\n",
       "3   p2  m1        3\n",
       "4   p2  m2        2\n",
       "5   p2  m3        0\n",
       "6   p3  m1        0\n",
       "7   p3  m2        2\n",
       "8   p3  m3        2\n",
       "9   p4  m1        2\n",
       "10  p4  m2        2\n",
       "11  p4  m3        2"
      ]
     },
     "execution_count": 19,
     "metadata": {},
     "output_type": "execute_result"
    }
   ],
   "source": [
    "require_df = pd.read_csv('requires.csv')\n",
    "require_df"
   ]
  },
  {
   "cell_type": "code",
   "execution_count": 20,
   "id": "d931308a",
   "metadata": {},
   "outputs": [
    {
     "data": {
      "text/html": [
       "<div>\n",
       "<style scoped>\n",
       "    .dataframe tbody tr th:only-of-type {\n",
       "        vertical-align: middle;\n",
       "    }\n",
       "\n",
       "    .dataframe tbody tr th {\n",
       "        vertical-align: top;\n",
       "    }\n",
       "\n",
       "    .dataframe thead th {\n",
       "        text-align: right;\n",
       "    }\n",
       "</style>\n",
       "<table border=\"1\" class=\"dataframe\">\n",
       "  <thead>\n",
       "    <tr style=\"text-align: right;\">\n",
       "      <th></th>\n",
       "      <th>p</th>\n",
       "      <th>gain</th>\n",
       "    </tr>\n",
       "  </thead>\n",
       "  <tbody>\n",
       "    <tr>\n",
       "      <th>0</th>\n",
       "      <td>p1</td>\n",
       "      <td>3</td>\n",
       "    </tr>\n",
       "    <tr>\n",
       "      <th>1</th>\n",
       "      <td>p2</td>\n",
       "      <td>4</td>\n",
       "    </tr>\n",
       "    <tr>\n",
       "      <th>2</th>\n",
       "      <td>p3</td>\n",
       "      <td>4</td>\n",
       "    </tr>\n",
       "    <tr>\n",
       "      <th>3</th>\n",
       "      <td>p4</td>\n",
       "      <td>5</td>\n",
       "    </tr>\n",
       "  </tbody>\n",
       "</table>\n",
       "</div>"
      ],
      "text/plain": [
       "    p  gain\n",
       "0  p1     3\n",
       "1  p2     4\n",
       "2  p3     4\n",
       "3  p4     5"
      ]
     },
     "execution_count": 20,
     "metadata": {},
     "output_type": "execute_result"
    }
   ],
   "source": [
    "gain_df = pd.read_csv('gains.csv')\n",
    "gain_df"
   ]
  },
  {
   "cell_type": "code",
   "execution_count": 40,
   "id": "3cbed45e",
   "metadata": {},
   "outputs": [
    {
     "name": "stdout",
     "output_type": "stream",
     "text": [
      "['p1', 'p2', 'p3', 'p4']\n"
     ]
    }
   ],
   "source": [
    "P = gain_df['p'].tolist()\n",
    "print(P)"
   ]
  },
  {
   "cell_type": "code",
   "execution_count": 41,
   "id": "7ef026b6",
   "metadata": {},
   "outputs": [
    {
     "name": "stdout",
     "output_type": "stream",
     "text": [
      "['m1', 'm2', 'm3']\n"
     ]
    }
   ],
   "source": [
    "M = stock_df['m'].tolist()\n",
    "print(M)"
   ]
  },
  {
   "cell_type": "markdown",
   "id": "0e110115",
   "metadata": {},
   "source": [
    "### ③ 定数の定義"
   ]
  },
  {
   "cell_type": "code",
   "execution_count": 42,
   "id": "d38019cb",
   "metadata": {},
   "outputs": [
    {
     "name": "stdout",
     "output_type": "stream",
     "text": [
      "{'m1': 35, 'm2': 22, 'm3': 27}\n"
     ]
    }
   ],
   "source": [
    "stock = {row.m:row.stock for row in stock_df.itertuples()}\n",
    "print(stock)"
   ]
  },
  {
   "cell_type": "code",
   "execution_count": 43,
   "id": "5c9e2f4f",
   "metadata": {},
   "outputs": [
    {
     "name": "stdout",
     "output_type": "stream",
     "text": [
      "{('p1', 'm1'): 2, ('p1', 'm2'): 0, ('p1', 'm3'): 1, ('p2', 'm1'): 3, ('p2', 'm2'): 2, ('p2', 'm3'): 0, ('p3', 'm1'): 0, ('p3', 'm2'): 2, ('p3', 'm3'): 2, ('p4', 'm1'): 2, ('p4', 'm2'): 2, ('p4', 'm3'): 2}\n"
     ]
    }
   ],
   "source": [
    "require = {(row.p, row.m):row.require for row in require_df.itertuples()}\n",
    "print(require)"
   ]
  },
  {
   "cell_type": "code",
   "execution_count": 44,
   "id": "7e501af7",
   "metadata": {},
   "outputs": [
    {
     "name": "stdout",
     "output_type": "stream",
     "text": [
      "{'p1': 3, 'p2': 4, 'p3': 4, 'p4': 5}\n"
     ]
    }
   ],
   "source": [
    "gain = {row.p:row.gain for row in gain_df.itertuples()}\n",
    "print(gain)"
   ]
  },
  {
   "cell_type": "markdown",
   "id": "7633c7d2",
   "metadata": {},
   "source": [
    "### ④ 線形計画問題の定義"
   ]
  },
  {
   "cell_type": "code",
   "execution_count": 45,
   "id": "51459946",
   "metadata": {},
   "outputs": [],
   "source": [
    "problem = pulp.LpProblem('LP2', pulp.LpMaximize)"
   ]
  },
  {
   "cell_type": "markdown",
   "id": "0189857e",
   "metadata": {},
   "source": [
    "### ⑤ 変数の定義"
   ]
  },
  {
   "cell_type": "code",
   "execution_count": 46,
   "id": "b289136c",
   "metadata": {},
   "outputs": [
    {
     "name": "stdout",
     "output_type": "stream",
     "text": [
      "{'p1': x_p1, 'p2': x_p2, 'p3': x_p3, 'p4': x_p4}\n"
     ]
    }
   ],
   "source": [
    "x = pulp.LpVariable.dicts('x', P, cat='Continuous')\n",
    "print(x)"
   ]
  },
  {
   "cell_type": "markdown",
   "id": "9a2ddf1e",
   "metadata": {},
   "source": [
    "### ⑥ 制約式の定義"
   ]
  },
  {
   "cell_type": "code",
   "execution_count": 47,
   "id": "7e4c5cba",
   "metadata": {},
   "outputs": [],
   "source": [
    "for p in P:\n",
    "    problem += x[p] >= 0"
   ]
  },
  {
   "cell_type": "code",
   "execution_count": 48,
   "id": "17263f4d",
   "metadata": {},
   "outputs": [],
   "source": [
    "for m in M:\n",
    "    problem += pulp.lpSum([require[p,m] * x[p] for p in P]) <= stock[m]"
   ]
  },
  {
   "cell_type": "markdown",
   "id": "ee9c975d",
   "metadata": {},
   "source": [
    "### ⑦ 目的関数の定義"
   ]
  },
  {
   "cell_type": "code",
   "execution_count": 49,
   "id": "fb9e9fe6",
   "metadata": {},
   "outputs": [],
   "source": [
    "problem += pulp.lpSum([gain[p] * x[p] for p in P])"
   ]
  },
  {
   "cell_type": "code",
   "execution_count": 50,
   "id": "c8e39796",
   "metadata": {},
   "outputs": [
    {
     "name": "stdout",
     "output_type": "stream",
     "text": [
      "Welcome to the CBC MILP Solver \n",
      "Version: 2.10.3 \n",
      "Build Date: Dec 15 2019 \n",
      "\n",
      "command line - /Users/isobekosuke/home/operations_research/venv/lib/python3.13/site-packages/pulp/apis/../solverdir/cbc/osx/i64/cbc /var/folders/b9/s3mpk10s0s1bl06d5p5990h80000gn/T/9e4a3be9eae04162b8fbc140823187e4-pulp.mps -max -timeMode elapsed -branch -printingOptions all -solution /var/folders/b9/s3mpk10s0s1bl06d5p5990h80000gn/T/9e4a3be9eae04162b8fbc140823187e4-pulp.sol (default strategy 1)\n",
      "At line 2 NAME          MODEL\n",
      "At line 3 ROWS\n",
      "At line 12 COLUMNS\n",
      "At line 30 RHS\n",
      "At line 38 BOUNDS\n",
      "At line 43 ENDATA\n",
      "Problem MODEL has 7 rows, 4 columns and 13 elements\n",
      "Coin0008I MODEL read with 0 errors\n",
      "Option for timeMode changed from cpu to elapsed\n",
      "Presolve 3 (-4) rows, 4 (0) columns and 9 (-4) elements\n",
      "0  Obj -0 Dual inf 17.499996 (4)\n",
      "4  Obj 80.428571\n",
      "Optimal - objective value 80.428571\n",
      "After Postsolve, objective 80.428571, infeasibilities - dual 0 (0), primal 0 (0)\n",
      "Optimal objective 80.42857143 - 4 iterations time 0.002, Presolve 0.00\n",
      "Option for printingOptions changed from normal to all\n",
      "Total time (CPU seconds):       0.00   (Wallclock seconds):       0.02\n",
      "\n",
      "Status: Optimal\n"
     ]
    }
   ],
   "source": [
    "status = problem.solve()\n",
    "print('Status:', pulp.LpStatus[status])"
   ]
  },
  {
   "cell_type": "code",
   "execution_count": 51,
   "id": "1ce4cca5",
   "metadata": {},
   "outputs": [
    {
     "name": "stdout",
     "output_type": "stream",
     "text": [
      "p1 12.142857\n",
      "p2 3.5714286\n",
      "p3 7.4285714\n",
      "p4 0.0\n",
      "obj= 80.42857099999999\n"
     ]
    }
   ],
   "source": [
    "for p in P:\n",
    "    print(p, x[p].value())\n",
    "\n",
    "print('obj=', problem.objective.value())"
   ]
  },
  {
   "cell_type": "markdown",
   "id": "5a90b01c",
   "metadata": {},
   "source": [
    "### ⑧ まとめ"
   ]
  },
  {
   "cell_type": "code",
   "execution_count": 52,
   "id": "24e871b4",
   "metadata": {},
   "outputs": [
    {
     "name": "stdout",
     "output_type": "stream",
     "text": [
      "Welcome to the CBC MILP Solver \n",
      "Version: 2.10.3 \n",
      "Build Date: Dec 15 2019 \n",
      "\n",
      "command line - /Users/isobekosuke/home/operations_research/venv/lib/python3.13/site-packages/pulp/apis/../solverdir/cbc/osx/i64/cbc /var/folders/b9/s3mpk10s0s1bl06d5p5990h80000gn/T/218994f1095f48c9827072cde8b6302e-pulp.mps -max -timeMode elapsed -branch -printingOptions all -solution /var/folders/b9/s3mpk10s0s1bl06d5p5990h80000gn/T/218994f1095f48c9827072cde8b6302e-pulp.sol (default strategy 1)\n",
      "At line 2 NAME          MODEL\n",
      "At line 3 ROWS\n",
      "At line 12 COLUMNS\n",
      "At line 30 RHS\n",
      "At line 38 BOUNDS\n",
      "At line 43 ENDATA\n",
      "Problem MODEL has 7 rows, 4 columns and 13 elements\n",
      "Coin0008I MODEL read with 0 errors\n",
      "Option for timeMode changed from cpu to elapsed\n",
      "Presolve 3 (-4) rows, 4 (0) columns and 9 (-4) elements\n",
      "0  Obj -0 Dual inf 17.499996 (4)\n",
      "4  Obj 80.428571\n",
      "Optimal - objective value 80.428571\n",
      "After Postsolve, objective 80.428571, infeasibilities - dual 0 (0), primal 0 (0)\n",
      "Optimal objective 80.42857143 - 4 iterations time 0.002, Presolve 0.00\n",
      "Option for printingOptions changed from normal to all\n",
      "Total time (CPU seconds):       0.00   (Wallclock seconds):       0.03\n",
      "\n",
      "Status: Optimal\n",
      "p1 12.142857\n",
      "p2 3.5714286\n",
      "p3 7.4285714\n",
      "p4 0.0\n",
      "obj= 80.42857099999999\n"
     ]
    }
   ],
   "source": [
    "import pandas as pd\n",
    "import pulp\n",
    "\n",
    "# データ取得\n",
    "require_df = pd.read_csv('requires.csv')\n",
    "stock_df = pd.read_csv('stocks.csv')\n",
    "gain_df = pd.read_csv('gains.csv')\n",
    "\n",
    "# リストの定義\n",
    "P = gain_df['p'].tolist()\n",
    "M = stock_df['m'].tolist()\n",
    "\n",
    "# 定数の定義\n",
    "stock = {row.m:row.stock for row in stock_df.itertuples()}\n",
    "gain = {row.p:row.gain for row in gain_df.itertuples()}\n",
    "require = {(row.p, row.m):row.require for row in require_df.itertuples()}\n",
    "\n",
    "# 数理最適化モデルの定義\n",
    "problem = pulp.LpProblem('LP2', pulp.LpMaximize)\n",
    "\n",
    "# 変数の定義\n",
    "x = pulp.LpVariable.dicts('x', P, cat='Continuous')\n",
    "\n",
    "# 制約式の定義\n",
    "for p in P:\n",
    "    problem += x[p] >= 0\n",
    "for m in M:\n",
    "    problem += pulp.lpSum([require[p, m] * x[p] for p in P]) <= stock[m]\n",
    "\n",
    "# 目的関数の定義\n",
    "problem += pulp.lpSum([gain[p] * x[p] for p in P])\n",
    "\n",
    "# 求解\n",
    "status = problem.solve()\n",
    "print('Status:', pulp.LpStatus[status])\n",
    "\n",
    "# 計算結果の表示\n",
    "for p in P:\n",
    "    print(p, x[p].value())\n",
    "print('obj=', problem.objective.value())"
   ]
  },
  {
   "cell_type": "markdown",
   "id": "fd185ac6",
   "metadata": {},
   "source": [
    "### 整数計画問題の場合"
   ]
  },
  {
   "cell_type": "code",
   "execution_count": 53,
   "id": "7ae67b73",
   "metadata": {},
   "outputs": [
    {
     "name": "stdout",
     "output_type": "stream",
     "text": [
      "Welcome to the CBC MILP Solver \n",
      "Version: 2.10.3 \n",
      "Build Date: Dec 15 2019 \n",
      "\n",
      "command line - /Users/isobekosuke/home/operations_research/venv/lib/python3.13/site-packages/pulp/apis/../solverdir/cbc/osx/i64/cbc /var/folders/b9/s3mpk10s0s1bl06d5p5990h80000gn/T/284f8391f06c4eaaad57df243dc45be7-pulp.mps -max -timeMode elapsed -branch -printingOptions all -solution /var/folders/b9/s3mpk10s0s1bl06d5p5990h80000gn/T/284f8391f06c4eaaad57df243dc45be7-pulp.sol (default strategy 1)\n",
      "At line 2 NAME          MODEL\n",
      "At line 3 ROWS\n",
      "At line 12 COLUMNS\n",
      "At line 38 RHS\n",
      "At line 46 BOUNDS\n",
      "At line 51 ENDATA\n",
      "Problem MODEL has 7 rows, 4 columns and 13 elements\n",
      "Coin0008I MODEL read with 0 errors\n",
      "Option for timeMode changed from cpu to elapsed\n",
      "Continuous objective value is 80.4286 - 0.00 seconds\n",
      "Cgl0004I processed model has 3 rows, 4 columns (4 integer (0 of which binary)) and 9 elements\n",
      "Cutoff increment increased from 1e-05 to 0.9999\n",
      "Cbc0012I Integer solution of -76 found by DiveCoefficient after 0 iterations and 0 nodes (0.01 seconds)\n",
      "Cbc0038I Full problem 3 rows 4 columns, reduced to 3 rows 3 columns\n",
      "Cbc0012I Integer solution of -79 found by DiveCoefficient after 1 iterations and 0 nodes (0.02 seconds)\n",
      "Cbc0031I 1 added rows had average density of 4\n",
      "Cbc0013I At root node, 1 cuts changed objective from -80.428571 to -79 in 2 passes\n",
      "Cbc0014I Cut generator 0 (Probing) - 0 row cuts average 0.0 elements, 0 column cuts (0 active)  in 0.000 seconds - new frequency is -100\n",
      "Cbc0014I Cut generator 1 (Gomory) - 2 row cuts average 4.0 elements, 0 column cuts (0 active)  in 0.000 seconds - new frequency is 1\n",
      "Cbc0014I Cut generator 2 (Knapsack) - 0 row cuts average 0.0 elements, 0 column cuts (0 active)  in 0.000 seconds - new frequency is -100\n",
      "Cbc0014I Cut generator 3 (Clique) - 0 row cuts average 0.0 elements, 0 column cuts (0 active)  in 0.000 seconds - new frequency is -100\n",
      "Cbc0014I Cut generator 4 (MixedIntegerRounding2) - 0 row cuts average 0.0 elements, 0 column cuts (0 active)  in 0.000 seconds - new frequency is -100\n",
      "Cbc0014I Cut generator 5 (FlowCover) - 0 row cuts average 0.0 elements, 0 column cuts (0 active)  in 0.000 seconds - new frequency is -100\n",
      "Cbc0001I Search completed - best objective -79, took 1 iterations and 0 nodes (0.02 seconds)\n",
      "Cbc0035I Maximum depth 0, 0 variables fixed on reduced cost\n",
      "Cuts at root node changed objective from -80.4286 to -79\n",
      "Probing was tried 2 times and created 0 cuts of which 0 were active after adding rounds of cuts (0.000 seconds)\n",
      "Gomory was tried 2 times and created 2 cuts of which 0 were active after adding rounds of cuts (0.000 seconds)\n",
      "Knapsack was tried 2 times and created 0 cuts of which 0 were active after adding rounds of cuts (0.000 seconds)\n",
      "Clique was tried 2 times and created 0 cuts of which 0 were active after adding rounds of cuts (0.000 seconds)\n",
      "MixedIntegerRounding2 was tried 2 times and created 0 cuts of which 0 were active after adding rounds of cuts (0.000 seconds)\n",
      "FlowCover was tried 2 times and created 0 cuts of which 0 were active after adding rounds of cuts (0.000 seconds)\n",
      "TwoMirCuts was tried 1 times and created 0 cuts of which 0 were active after adding rounds of cuts (0.000 seconds)\n",
      "ZeroHalf was tried 1 times and created 0 cuts of which 0 were active after adding rounds of cuts (0.000 seconds)\n",
      "\n",
      "Result - Optimal solution found\n",
      "\n",
      "Objective value:                79.00000000\n",
      "Enumerated nodes:               0\n",
      "Total iterations:               1\n",
      "Time (CPU seconds):             0.01\n",
      "Time (Wallclock seconds):       0.02\n",
      "\n",
      "Option for printingOptions changed from normal to all\n",
      "Total time (CPU seconds):       0.01   (Wallclock seconds):       0.02\n",
      "\n",
      "Status: Optimal\n",
      "p1 13.0\n",
      "p2 3.0\n",
      "p3 7.0\n",
      "p4 -0.0\n",
      "obj= 79.0\n"
     ]
    }
   ],
   "source": [
    "import pandas as pd\n",
    "import pulp\n",
    "\n",
    "# データ取得\n",
    "require_df = pd.read_csv('requires.csv')\n",
    "stock_df = pd.read_csv('stocks.csv')\n",
    "gain_df = pd.read_csv('gains.csv')\n",
    "\n",
    "# リストの定義\n",
    "P = gain_df['p'].tolist()\n",
    "M = stock_df['m'].tolist()\n",
    "\n",
    "# 定数の定義\n",
    "stock = {row.m:row.stock for row in stock_df.itertuples()}\n",
    "gain = {row.p:row.gain for row in gain_df.itertuples()}\n",
    "require = {(row.p, row.m):row.require for row in require_df.itertuples()}\n",
    "\n",
    "# 数理最適化モデルの定義\n",
    "problem = pulp.LpProblem('IP2', pulp.LpMaximize) # IP: Integer Programming\n",
    "\n",
    "# 変数の定義\n",
    "x = pulp.LpVariable.dicts('x', P, cat='Integer')\n",
    "\n",
    "# 制約式の定義\n",
    "for p in P:\n",
    "    problem += x[p] >= 0\n",
    "for m in M:\n",
    "    problem += pulp.lpSum([require[p, m] * x[p] for p in P]) <= stock[m]\n",
    "\n",
    "# 目的関数の定義\n",
    "problem += pulp.lpSum([gain[p] * x[p] for p in P])\n",
    "\n",
    "# 求解\n",
    "status = problem.solve()\n",
    "print('Status:', pulp.LpStatus[status])\n",
    "\n",
    "# 計算結果の表示\n",
    "for p in P:\n",
    "    print(p, x[p].value())\n",
    "print('obj=', problem.objective.value())"
   ]
  },
  {
   "cell_type": "code",
   "execution_count": null,
   "id": "44025f54",
   "metadata": {},
   "outputs": [],
   "source": []
  }
 ],
 "metadata": {
  "kernelspec": {
   "display_name": "venv",
   "language": "python",
   "name": "python3"
  },
  "language_info": {
   "codemirror_mode": {
    "name": "ipython",
    "version": 3
   },
   "file_extension": ".py",
   "mimetype": "text/x-python",
   "name": "python",
   "nbconvert_exporter": "python",
   "pygments_lexer": "ipython3",
   "version": "3.13.5"
  }
 },
 "nbformat": 4,
 "nbformat_minor": 5
}
